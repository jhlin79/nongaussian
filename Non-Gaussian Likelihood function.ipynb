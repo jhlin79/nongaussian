{
 "cells": [
  {
   "cell_type": "markdown",
   "metadata": {},
   "source": [
    "### Overview\n",
    "\n",
    "Typically, Gaussian probability distributions are assumed to be the underlying probability distribution for convergence power spectrum and shear correlation functions. In those cases, the distribution can be summarized by the mean and the covariance matrix. Gaussian kernels are therefore adopted in the likelihood analysis. However, the assumption of Gaussian distribution may not hold outside linear regime, and we would need higher moments to correct the distribution.\n",
    "\n",
    "Rachel proposed a roadmap for this project in an earlier mail. I am now following the steps and are trying to estimate the influence of the non-Gaussian effect by combining simulation results (Sato's simulation for now).\n",
    "\n",
    "The current progress are the shown as follows:"
   ]
  },
  {
   "cell_type": "markdown",
   "metadata": {},
   "source": [
    "### Non-Guassianity in Sato's simulation\n",
    "\n",
    "\n",
    "![xi+_Sato](./xi+_Sato.pdf)\n",
    "\n",
    "\n",
    "This plot shows xi+ and standard deviation from 1000 realization of Sato's simulation. The difference between std and 68% percentile is expected if the distribution are not perfect gaussians. An  [3-D interactive plot](https://plot.ly/~jhlin/90.embed) is available here. We can easily see the distribution is skewed toward larger xi+.\n",
    "\n",
    "![skewness_kurtosis](./xi+_skewness+kurtosis.pdf)\n",
    "\n",
    "The non-gaussianity can also be quantified in terms of skewness(3rd moment) and kurtosis(4th  moment). The skewness and kurtosis are quite significant compared with the finite-sampling noise for a gaussian distribution. This plot indicates a strong evidence against normality, but the qustion is how large is this effect in terms of constraining cosmo parameter. \n",
    "\n",
    "We also have an interesting discovery from this plot. It seems that there're two competing effect for the non-gaussianity, one peaks at lower theta and the other peaks at higher theta. Both the skewness and kurosis show the same trend. We don't know what causes the peaks, but there must be interesting physics behind it."
   ]
  },
  {
   "cell_type": "markdown",
   "metadata": {},
   "source": [
    "### CosmoLike predictions (vs. Sato's simulation)\n",
    "\n",
    "In order to do likelihood analysis on simulation data, we use CosmoLike to provide theoretical predictions of shear correlation functions. It took me some time to learn how to use the package and how to modify the functions if necessary. Here are the comparison between cosmolike and the simulation. CosmoLike seems to overestimate xi+, xi- and convergence power spectrum roughly by a factor of 2. I'm still digging the cause of this discrepancy. Maybe Tim can give some comments on this? I was suspecting if this was due to the redshift distribution. But the discrepancy is still there even though I adopt a Dirac delta redshift distribution as suggested in Sato's paper. \n",
    "\n",
    "![xi+_cosmolike_Sato](xi+_cosmolike_Sato.pdf)\n",
    "![xi-_cosmolike_Sato](xi-_cosmolike_Sato.pdf)\n",
    "\n",
    "As for the covariance matrix, the intrinsic elipticity shot noise is not included and small-survey-area effect is considered. The gaussian part of the covariance accidentally matchs with Sato quite well despite the descrepancy in power spectrum as mention above. CosmoLike gives larger but qualitatively consistent predictions for the non-gaussian part of the covarinace. Still, this is realted to the descrepancy in power spectrum.\n",
    "![cov+_cosmolike_Sato](cov+_cosmolike_Sato.pdf)"
   ]
  },
  {
   "cell_type": "markdown",
   "metadata": {},
   "source": [
    "### Mapping the correlation functions to the parameter space by maximum likelihood\n",
    "\n",
    "We now plan to estimate the effect of non-gaussianity by taking the simulation realization (skewed) and a fake gaussian-distributed one generated from mean and cov, and run the likelihood analysis to see if they go to the same fiducial cosmology. If the bias is significant, we should then move on to design a new way to do the non-gaussian likelihood analysis. I've tried different optimization schemes to map the correlation functions to the parameter space by maximum likelihood (eg. local optimization:Nelder-Mead simplex, conjugate gradient. global optimization: differential evolution.). But this step is not ready until I can get precise predictions of correlation functions."
   ]
  }
 ],
 "metadata": {
  "kernelspec": {
   "display_name": "Python 2",
   "language": "python",
   "name": "python2"
  },
  "language_info": {
   "codemirror_mode": {
    "name": "ipython",
    "version": 2
   },
   "file_extension": ".py",
   "mimetype": "text/x-python",
   "name": "python",
   "nbconvert_exporter": "python",
   "pygments_lexer": "ipython2",
   "version": "2.7.10"
  }
 },
 "nbformat": 4,
 "nbformat_minor": 0
}
